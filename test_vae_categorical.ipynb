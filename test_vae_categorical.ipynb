{
 "cells": [
  {
   "cell_type": "code",
   "execution_count": null,
   "metadata": {
    "collapsed": true
   },
   "outputs": [],
   "source": [
    "import torch\n",
    "from torchvision import transforms \n",
    "import torch.optim as optim\n",
    "from torch.autograd import Variable\n",
    "import torchvision\n",
    "\n",
    "from vae_categorical import VAE"
   ]
  },
  {
   "cell_type": "code",
   "execution_count": null,
   "metadata": {
    "collapsed": true
   },
   "outputs": [],
   "source": [
    "input_dim = 28 * 28 # dimensions of each image in MNIST dataset\n",
    "\n",
    "batch_size = 100\n",
    "hidden1_size = 512\n",
    "hidden2_size = 256\n",
    "K = 10 #number of classes\n",
    "N = 20 #number of categorical distributions\n",
    "tau0 = 1 # initial temperature\n",
    "epochs = 100"
   ]
  },
  {
   "cell_type": "code",
   "execution_count": null,
   "metadata": {
    "collapsed": false
   },
   "outputs": [],
   "source": [
    "iscuda = torch.cuda.is_available()  #check the availability of GPU\n",
    "\n",
    "# MNIST Dataset download\n",
    "transform = transforms.Compose([transforms.ToTensor()])\n",
    "mnist = torchvision.datasets.MNIST('./', download=True, transform=transform)\n",
    "dataloader = torch.utils.data.DataLoader(mnist, batch_size=batch_size, shuffle=True, num_workers=2)\n",
    "\n",
    "# instantiate VAE class object\n",
    "vae = VAE(K, N, tau0, input_dim, [hidden1_size, hidden2_size], iscuda)\n",
    "if iscuda:\n",
    "    vae.cuda()\n",
    "optimizer = optim.Adam(vae.parameters(), lr=1e-2)"
   ]
  },
  {
   "cell_type": "code",
   "execution_count": null,
   "metadata": {
    "collapsed": false
   },
   "outputs": [],
   "source": [
    "# training\n",
    "for e in range(1,epochs):\n",
    "    l = 0\n",
    "    rl = 0\n",
    "    kl = 0\n",
    "    for i, data in enumerate(dataloader, 0):\n",
    "        inputs, _ = data\n",
    "        if iscuda:\n",
    "            inputs = inputs.cuda()\n",
    "   \n",
    "        inputs = Variable(inputs.resize_(batch_size, input_dim))\n",
    "        optimizer.zero_grad()\n",
    "        outputs = vae(inputs)\n",
    "        loss = vae.loss_fn(inputs, outputs)\n",
    "        l += loss.data[0]\n",
    "        rl += vae.recons_loss\n",
    "        kl += vae.kl_loss\n",
    "   \n",
    "        loss.backward()\n",
    "        optimizer.step()\n",
    "   \n",
    "    print \"epoch: \", e, \", error: \", l/i, \", recons error: \", rl/i, \", kl divergence: \", kl/i"
   ]
  }
 ],
 "metadata": {
  "kernelspec": {
   "display_name": "Python 2",
   "language": "python",
   "name": "python2"
  },
  "language_info": {
   "codemirror_mode": {
    "name": "ipython",
    "version": 2
   },
   "file_extension": ".py",
   "mimetype": "text/x-python",
   "name": "python",
   "nbconvert_exporter": "python",
   "pygments_lexer": "ipython2",
   "version": "2.7.13"
  }
 },
 "nbformat": 4,
 "nbformat_minor": 2
}
